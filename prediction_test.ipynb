{
 "cells": [
  {
   "cell_type": "code",
   "execution_count": 1,
   "id": "3be94e3c-1564-432e-ac91-aecb5851de27",
   "metadata": {},
   "outputs": [],
   "source": [
    "import torch\n",
    "from dvae.dataset.covid_dataset import HaddadDataset\n",
    "from dvae.model import build_VRNN \n",
    "from dvae.utils import myconf\n",
    "import matplotlib.pyplot as plt"
   ]
  },
  {
   "cell_type": "code",
   "execution_count": 2,
   "id": "d4939998-7038-4e34-91c3-8dc7a2d9e6d0",
   "metadata": {},
   "outputs": [
    {
     "data": {
      "text/plain": [
       "True"
      ]
     },
     "execution_count": 2,
     "metadata": {},
     "output_type": "execute_result"
    }
   ],
   "source": [
    "torch.cuda.is_available()"
   ]
  },
  {
   "cell_type": "code",
   "execution_count": 3,
   "id": "b9eaab6f-80ec-417d-abbc-d0410ca5a4d6",
   "metadata": {},
   "outputs": [
    {
     "data": {
      "text/plain": [
       "['/home/victor.oliveira/DVAE-COVID/saved_model/COVID_2025-07-21-12h31_VRNN_z_dim=10/config.ini']"
      ]
     },
     "execution_count": 3,
     "metadata": {},
     "output_type": "execute_result"
    }
   ],
   "source": [
    "cfg = myconf()\n",
    "cfg.read(\"/home/victor.oliveira/DVAE-COVID/saved_model/COVID_2025-07-21-12h31_VRNN_z_dim=10/config.ini\")"
   ]
  },
  {
   "cell_type": "code",
   "execution_count": 4,
   "id": "d13e1516-2731-450f-ab9d-b944b655ba35",
   "metadata": {},
   "outputs": [],
   "source": [
    "val_windows = torch.load(\"/home/victor.oliveira/DVAE-COVID/saved_model/COVID_2025-07-21-12h31_VRNN_z_dim=10/valid_windows.pt\")"
   ]
  },
  {
   "cell_type": "code",
   "execution_count": 5,
   "id": "047f70d0-b1c6-42d2-beec-7b803c1d266c",
   "metadata": {},
   "outputs": [],
   "source": [
    "ds = HaddadDataset(windows=val_windows, input_col_list=[\"Ct_Value\"], context_length=12, mask_value=-1)\n"
   ]
  },
  {
   "cell_type": "code",
   "execution_count": 6,
   "id": "293940f4-f99a-4c5e-a3d1-faf985ac89d7",
   "metadata": {
    "collapsed": true,
    "jupyter": {
     "outputs_hidden": true
    }
   },
   "outputs": [
    {
     "data": {
      "text/plain": [
       "VRNN(\n",
       "  (activation): Tanh()\n",
       "  (feature_extractor_x): Sequential(\n",
       "    (linear0): Linear(in_features=1, out_features=64, bias=True)\n",
       "    (activation0): Tanh()\n",
       "    (dropout0): Dropout(p=0.0, inplace=False)\n",
       "  )\n",
       "  (feature_extractor_z): Sequential(\n",
       "    (linear0): Linear(in_features=10, out_features=16, bias=True)\n",
       "    (activation0): Tanh()\n",
       "    (dropout0): Dropout(p=0.0, inplace=False)\n",
       "    (linear1): Linear(in_features=16, out_features=32, bias=True)\n",
       "    (activation1): Tanh()\n",
       "    (dropout1): Dropout(p=0.0, inplace=False)\n",
       "  )\n",
       "  (mlp_hx_z): Sequential(\n",
       "    (Identity): Identity()\n",
       "  )\n",
       "  (inf_mean): Linear(in_features=128, out_features=10, bias=True)\n",
       "  (inf_logvar): Linear(in_features=128, out_features=10, bias=True)\n",
       "  (mlp_h_z): Sequential(\n",
       "    (Identity): Identity()\n",
       "  )\n",
       "  (prior_mean): Linear(in_features=64, out_features=10, bias=True)\n",
       "  (prior_logvar): Linear(in_features=64, out_features=10, bias=True)\n",
       "  (mlp_hz_x): Sequential(\n",
       "    (Identity): Identity()\n",
       "  )\n",
       "  (gen_out): Linear(in_features=96, out_features=1, bias=True)\n",
       "  (rnn): LSTM(96, 64)\n",
       ")"
      ]
     },
     "execution_count": 6,
     "metadata": {},
     "output_type": "execute_result"
    }
   ],
   "source": [
    "model = build_VRNN(cfg=cfg, device=\"cuda\")\n",
    "model.eval()"
   ]
  },
  {
   "cell_type": "code",
   "execution_count": 7,
   "id": "57aa4ebf-fdde-4ed9-b890-c7b04d9f34a7",
   "metadata": {},
   "outputs": [],
   "source": [
    "IDX=0\n",
    "\n",
    "input_window, target = ds[IDX]\n",
    "\n",
    "input_window = input_window.to(torch.device(\"cuda\"))\n",
    "input_window = input_window.unsqueeze(1)\n",
    "\n",
    "predicted_window = model(input_window)\n"
   ]
  },
  {
   "cell_type": "code",
   "execution_count": 8,
   "id": "c581561f-36a4-42bd-8f76-6a3392552988",
   "metadata": {},
   "outputs": [],
   "source": [
    "predicted_window = predicted_window.squeeze()\n",
    "predicted_window = predicted_window.detach().cpu().numpy()\n",
    "\n",
    "target = target.squeeze()\n",
    "target = target.cpu().numpy()"
   ]
  },
  {
   "cell_type": "code",
   "execution_count": 9,
   "id": "2361e8b2-13db-4b80-868f-cd5da3f7d81b",
   "metadata": {},
   "outputs": [
    {
     "data": {
      "image/png": "[encoded data removed]",
      "text/plain": [
       "<Figure size 640x480 with 1 Axes>"
      ]
     },
     "metadata": {},
     "output_type": "display_data"
    }
   ],
   "source": [
    "time = range(target.shape[0])\n",
    "plt.plot(time, predicted_window, label='Prediction', color='blue')\n",
    "plt.plot(time, target, label='Target', color='green')\n",
    "\n",
    "plt.xlabel('Time Step')\n",
    "plt.ylabel('Ct-Value')\n",
    "plt.title('Model prediction analisys')\n",
    "plt.legend()\n",
    "plt.grid(True)\n",
    "plt.show()"
   ]
  },
  {
   "cell_type": "code",
   "execution_count": 10,
   "id": "342e1b8c-c20c-45dc-b6aa-7bcb49d82c2e",
   "metadata": {},
   "outputs": [],
   "source": [
    "IDX=0\n",
    "\n",
    "input_window, target = ds[IDX]\n",
    "\n",
    "input_window = input_window.to(torch.device(\"cuda\"))\n",
    "input_window = input_window.unsqueeze(1)\n",
    "\n",
    "predicted_window = model(input_window)\n",
    "\n",
    "target = target.to(torch.device(\"cuda\"))\n",
    "target = target.unsqueeze(1)\n",
    "loss_recon = torch.nn.functional.mse_loss(predicted_window, target, reduction='sum')"
   ]
  },
  {
   "cell_type": "code",
   "execution_count": 11,
   "id": "13fc069e-840a-4b94-89ef-caeada249e61",
   "metadata": {},
   "outputs": [
    {
     "data": {
      "text/plain": [
       "tensor(10686.3750, device='cuda:0', grad_fn=<MseLossBackward0>)"
      ]
     },
     "execution_count": 11,
     "metadata": {},
     "output_type": "execute_result"
    }
   ],
   "source": [
    "loss_recon"
   ]
  },
  {
   "cell_type": "code",
   "execution_count": 13,
   "id": "a9bb5abc-70c4-49d0-9b0b-0c84c8577484",
   "metadata": {},
   "outputs": [
    {
     "data": {
      "text/plain": [
       "tensor(445.2656, device='cuda:0', grad_fn=<DivBackward0>)"
      ]
     },
     "execution_count": 13,
     "metadata": {},
     "output_type": "execute_result"
    }
   ],
   "source": [
    "loss_recon / 24"
   ]
  },
  {
   "cell_type": "code",
   "execution_count": null,
   "id": "3fe48f9a-8926-4a53-a0f6-69d744375651",
   "metadata": {},
   "outputs": [],
   "source": [
    "batch_data.permute(1, 0, 2)"
   ]
  },
  {
   "cell_type": "code",
   "execution_count": 17,
   "id": "6c65d520-bbd5-4e5e-8c7b-ada5afa399f4",
   "metadata": {},
   "outputs": [
    {
     "data": {
      "text/plain": [
       "torch.Size([24, 1, 1])"
      ]
     },
     "execution_count": 17,
     "metadata": {},
     "output_type": "execute_result"
    }
   ],
   "source": [
    "IDX=2\n",
    "\n",
    "input_window, target = ds[IDX]\n",
    "\n",
    "input_window = input_window.to(torch.device(\"cuda\"))\n",
    "input_window = input_window.unsqueeze(1)\n",
    "input_window.shape"
   ]
  },
  {
   "cell_type": "code",
   "execution_count": null,
   "id": "29b33e10-7f2c-4608-83d4-5328a0d60219",
   "metadata": {},
   "outputs": [],
   "source": []
  }
 ],
 "metadata": {
  "kernelspec": {
   "display_name": "covid",
   "language": "python",
   "name": "covid"
  },
  "language_info": {
   "codemirror_mode": {
    "name": "ipython",
    "version": 3
   },
   "file_extension": ".py",
   "mimetype": "text/x-python",
   "name": "python",
   "nbconvert_exporter": "python",
   "pygments_lexer": "ipython3",
   "version": "3.10.18"
  }
 },
 "nbformat": 4,
 "nbformat_minor": 5
}
